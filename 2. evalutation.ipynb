{
 "cells": [
  {
   "cell_type": "markdown",
   "metadata": {},
   "source": [
    "# train 후 evalutation 코드\n",
    "190603"
   ]
  },
  {
   "cell_type": "code",
   "execution_count": 1,
   "metadata": {},
   "outputs": [],
   "source": [
    "# coding=utf-8\n",
    "from datetime import datetime\n",
    "import torch\n",
    "import _pickle as cPickle\n",
    "from torch.autograd import Variable\n",
    "import matplotlib.pyplot as plt\n",
    "%matplotlib inline\n",
    "\n",
    "from loader import *\n",
    "from utils import *"
   ]
  },
  {
   "cell_type": "code",
   "execution_count": 10,
   "metadata": {},
   "outputs": [
    {
     "name": "stdout",
     "output_type": "stream",
     "text": [
      "{   'char_mode': 'CNN',\n",
      "    'crf': 0,\n",
      "    'dev': 'data/eng.testa',\n",
      "    'eval_path': 'evaluation',\n",
      "    'eval_script': 'evaluation/conlleval',\n",
      "    'eval_temp': 'evaluation/temp',\n",
      "    'loss': 'loss.txt',\n",
      "    'map_path': 'models/mapping.pkl',\n",
      "    'model_name': 'models/lstm_crf.model',\n",
      "    'models_path': 'models',\n",
      "    'name': 'lstm_crf.model',\n",
      "    'score': 'evaluation/temp/score.txt',\n",
      "    'test': 'data/eng.testb',\n",
      "    'train': 'data/eng.train',\n",
      "    'use_gpu': 1}\n"
     ]
    }
   ],
   "source": [
    "class Myconfig():\n",
    "    def __init__(self):\n",
    "        self.train        = 'data/eng.train'  # Train set location\n",
    "        self.dev          = 'data/eng.testa'  # Dev set location\n",
    "        self.test         = 'data/eng.testb'  # Test set location\n",
    "        \n",
    "        self.score        = 'evaluation/temp/score.txt'  # score file location\n",
    "        self.crf          = 0  # Use CRF (0 to disable)\n",
    "         \n",
    "        self.use_gpu      = 1  # whether or not to ues gpu\n",
    "        self.loss         = 'loss.txt'  # loss file location\n",
    "        self.map_path     = 'models/mapping.pkl'  # model path\n",
    "        self.char_mode    = 'CNN'  # ['CNN', 'LSTM']  # char_CNN or char_LSTM\n",
    "        self.models_path  = \"models\"\n",
    "        self.name         = 'lstm_crf.model'  # model name\n",
    "        self.model_name   = os.path.join(self.models_path, self.name)\n",
    "        self.eval_path    = \"evaluation\"\n",
    "        self.eval_temp    = os.path.join(self.eval_path, \"temp\")\n",
    "        self.eval_script  = os.path.join(self.eval_path, \"conlleval\")\n",
    "        \n",
    "opts = Myconfig()\n",
    "def _print_config(config):\n",
    "    import pprint\n",
    "    pp = pprint.PrettyPrinter(indent=4)\n",
    "    pp.pprint(vars(config))\n",
    "_print_config(opts)"
   ]
  },
  {
   "cell_type": "code",
   "execution_count": 3,
   "metadata": {},
   "outputs": [],
   "source": [
    "with open(opts.map_path, 'rb') as f:\n",
    "    mappings = cPickle.load(f)"
   ]
  },
  {
   "cell_type": "code",
   "execution_count": 4,
   "metadata": {},
   "outputs": [
    {
     "name": "stdout",
     "output_type": "stream",
     "text": [
      "gpu 사용!\n"
     ]
    },
    {
     "data": {
      "image/png": "[encoded data removed]",
      "text/plain": [
       "<Figure size 1080x216 with 2 Axes>"
      ]
     },
     "metadata": {
      "needs_background": "light"
     },
     "output_type": "display_data"
    }
   ],
   "source": [
    "word_to_id  = mappings['word_to_id']\n",
    "tag_to_id   = mappings['tag_to_id']\n",
    "id_to_tag   = {k[1]: k[0] for k in tag_to_id.items()}\n",
    "char_to_id  = mappings['char_to_id']\n",
    "parameters  = mappings['parameters']\n",
    "word_embeds = mappings['word_embeds']\n",
    "epoch_losses= mappings['epoch_losses']\n",
    "all_F       = mappings['all_F']\n",
    "\n",
    "lower = parameters.lower\n",
    "zeros = parameters.zeros\n",
    "tag_scheme = parameters.tag_scheme\n",
    "\n",
    "if opts.use_gpu == 1 and torch.cuda.is_available():  print('gpu 사용!')\n",
    "else: opts.use_gpu = 0;    print('gpu 사용 불가!!')\n",
    "    \n",
    "fig = plt.figure(figsize=(15, 3))\n",
    "plt.subplot(1, 2, 1)\n",
    "plt.plot(epoch_losses)\n",
    "plt.plot(parameters.best_idx, epoch_losses[parameters.best_idx], 'ro')\n",
    "plt.title('loss')\n",
    "\n",
    "plt.subplot(1, 2, 2)\n",
    "plt.plot(all_F)\n",
    "plt.plot([parameters.best_idx, parameters.best_idx, parameters.best_idx], all_F[parameters.best_idx], 'ro')\n",
    "plt.title('F score')\n",
    "plt.legend(['train', 'dev', 'test'])\n",
    "plt.ylim([90.5, 100])\n",
    "plt.show()"
   ]
  },
  {
   "cell_type": "code",
   "execution_count": 5,
   "metadata": {},
   "outputs": [],
   "source": [
    "assert os.path.isfile(opts.test)\n",
    "assert parameters.tag_scheme in ['iob', 'iobes']\n",
    "\n",
    "if not os.path.isfile(opts.eval_script):\n",
    "    raise Exception('CoNLL evaluation script not found at \"%s\"' % eval_script)\n",
    "if not os.path.exists(opts.eval_temp):\n",
    "    os.makedirs(opts.eval_temp)"
   ]
  },
  {
   "cell_type": "code",
   "execution_count": 6,
   "metadata": {},
   "outputs": [],
   "source": [
    "test_sentences = load_sentences(opts.test, lower, zeros)\n",
    "update_tag_scheme(test_sentences, tag_scheme)\n",
    "test_data = prepare_dataset(\n",
    "    test_sentences, word_to_id, char_to_id, tag_to_id, lower\n",
    ")"
   ]
  },
  {
   "cell_type": "code",
   "execution_count": 7,
   "metadata": {},
   "outputs": [
    {
     "data": {
      "text/plain": [
       "BiLSTM_CRF(\n",
       "  (char_embeds): Embedding(85, 25)\n",
       "  (char_cnn3): Conv2d(1, 25, kernel_size=(3, 25), stride=(1, 1), padding=(2, 0))\n",
       "  (word_embeds): Embedding(400176, 100)\n",
       "  (dropout): Dropout(p=0.5)\n",
       "  (lstm): LSTM(125, 200, bidirectional=True)\n",
       "  (hw_trans): Linear(in_features=25, out_features=25, bias=True)\n",
       "  (hw_gate): Linear(in_features=25, out_features=25, bias=True)\n",
       "  (h2_h1): Linear(in_features=400, out_features=200, bias=True)\n",
       "  (tanh): Tanh()\n",
       "  (hidden2tag): Linear(in_features=400, out_features=19, bias=True)\n",
       ")"
      ]
     },
     "execution_count": 7,
     "metadata": {},
     "output_type": "execute_result"
    }
   ],
   "source": [
    "model = torch.load(opts.model_name)\n",
    "model_name = opts.model_name.split('/')[-1].split('.')[0]\n",
    "\n",
    "if opts.use_gpu:\n",
    "    model.cuda()\n",
    "model.eval()"
   ]
  },
  {
   "cell_type": "code",
   "execution_count": 8,
   "metadata": {},
   "outputs": [],
   "source": [
    "def evaluating(model, datas, display_confusion_matrix = False):\n",
    "    start_time = datetime.now();print('training start -%s' % start_time);\n",
    "    prediction = []\n",
    "    save = False\n",
    "    new_F = 0.0\n",
    "    confusion_matrix = torch.zeros((len(tag_to_id) - 2, len(tag_to_id) - 2))  # tag들의 갯수 - 2(start, stop)\n",
    "    for data in datas:\n",
    "        ground_truth_id = data['tags']\n",
    "        words    = data['str_words'] # ['EU', 'rejects', 'German', 'call', 'to', 'boycott', 'British', 'lamb', '.']\n",
    "        chars2   = data['chars']     # [[36, 58], [7, 1, 62, 1, 12, 3, 8], ...\n",
    "        caps     = data['caps']      # [1, 0, 2, 0, 0, 0, 2, 0, 0]\n",
    "\n",
    "        ## char embedding\n",
    "        if opts.char_mode == 'LSTM':\n",
    "            chars2_sorted = sorted(chars2, key=lambda p: len(p), reverse=True)\n",
    "            matching_char = {}\n",
    "            for i, ci in enumerate(chars2):\n",
    "                for j, cj in enumerate(chars2_sorted):\n",
    "                    if ci == cj and not j in matching_char and not i in matching_char.values():\n",
    "                        matching_char[j] = i\n",
    "                        continue\n",
    "            chars2_length = [len(c) for c in chars2_sorted]\n",
    "            char_maxl = max(chars2_length)\n",
    "            chars2_mask = np.zeros((len(chars2_sorted), char_maxl), dtype='int')\n",
    "            for i, c in enumerate(chars2_sorted):\n",
    "                chars2_mask[i, :chars2_length[i]] = c\n",
    "            chars2_mask = Variable(torch.LongTensor(chars2_mask))\n",
    "\n",
    "        if opts.char_mode == 'CNN':\n",
    "            matching_char = {}\n",
    "            chars2_length = [len(c) for c in chars2]\n",
    "            char_maxl = max(chars2_length)\n",
    "            chars2_mask = np.zeros((len(chars2_length), char_maxl), dtype='int')\n",
    "            for i, c in enumerate(chars2):\n",
    "                chars2_mask[i, :chars2_length[i]] = c\n",
    "            chars2_mask = Variable(torch.LongTensor(chars2_mask))\n",
    "        \n",
    "        eval_sentence_in = Variable(torch.LongTensor(data['words']))\n",
    "        eval_caps  = Variable(torch.LongTensor(caps))\n",
    "        # 변수들 gpu로 보내기\n",
    "        if opts.use_gpu:\n",
    "            eval_sentence_in= eval_sentence_in.cuda()\n",
    "            chars2_mask     = chars2_mask.cuda()\n",
    "            eval_caps       = eval_caps.cuda()\n",
    "        ############################################################################\n",
    "        ## !! inference!!\n",
    "        ## input : 문장, caption, 단어들, 단어길이들, 단어매칭dict\n",
    "        ## output: score : tensor(237.0103, device='cuda:0', grad_fn=<SelectBackward>)\n",
    "        ##         target_sequence : [4, 0, 5, 0, 0, 0, 5, 0, 0]\n",
    "        ############################################################################\n",
    "        score, predict_target_sequence = model(sentence= eval_sentence_in,\n",
    "                                               caps    = eval_caps,                             \n",
    "                                               chars        = chars2_mask,\n",
    "                                               chars2_length= chars2_length,\n",
    "                                               matching_char= matching_char)  # target이 없다.\n",
    "        predicted_id = predict_target_sequence    \n",
    "        # word, true_id, pred_id\n",
    "        # 단어,    정답, 예측값\n",
    "        # EU       4     4\n",
    "        # rejects  0     0\n",
    "        # German   5     5\n",
    "        # call     0     0\n",
    "        # to       0     0\n",
    "        # boycott  0     0\n",
    "        # British  5     5\n",
    "        # lamb     0     0\n",
    "        # .        0     0\n",
    "        for (word, true_id, pred_id) in zip(words, ground_truth_id, predicted_id):\n",
    "            line = ' '.join([word, id_to_tag[true_id], id_to_tag[pred_id]])\n",
    "            prediction.append(line)\n",
    "            confusion_matrix[true_id, pred_id] += 1 # 17 x 17 행렬에서, [실제값, 예측값] 부분에 +1 추가\n",
    "        prediction.append('')\n",
    "    predf  = opts.eval_temp + '/pred.' + opts.name\n",
    "    scoref = opts.eval_temp + '/score.' + opts.name \n",
    "    \n",
    "    ## inference 출력!!!! - /evaluation/temp/pred.test\n",
    "    ## word   true   prediction\n",
    "    ## prediction\n",
    "    # EU S-ORG O\n",
    "    # rejects O O\n",
    "    # German S-MISC O\n",
    "    # call O O\n",
    "    with open(predf, 'w') as f:\n",
    "        f.write('\\n'.join(prediction))\n",
    "    # evaluation 폴더에 있는 conlleval 파일을 실행시킨다.\n",
    "    # 공식으로 제공하는 평가 및 저장 코드가 있다.\n",
    "    # system 명령어로 구동 - 'evaluation/conlleval < evaluation/temp/pred.test > evaluation/temp/score.test'\n",
    "    os.system('%s < %s > %s' % (opts.eval_script, predf, scoref))\n",
    "    ############################################################################\n",
    "    ## display\n",
    "    ############################################################################\n",
    "    # 위 명령어로 평가가 진행되고 'scoref' 경로에 socre가 저장된다\n",
    "    # best f1 score를 갱신하면, save=True를 return 하고 저장하도록 한다\n",
    "    eval_lines = [l.rstrip() for l in codecs.open(scoref, 'r', 'utf8')]\n",
    "    for i, line in enumerate(eval_lines):\n",
    "        print(line)\n",
    "#         if i == 1:\n",
    "#             new_F = float(line.strip().split()[-1])\n",
    "#             if new_F > best_F:\n",
    "#                 best_F = new_F\n",
    "#                 save = True\n",
    "#                 print('the best F is ', new_F)\n",
    "    ############################################################################\n",
    "    ## display, confusion matrix\n",
    "    ############################################################################\n",
    "    if display_confusion_matrix:\n",
    "        print((\"{: >2}{: >7}{: >7}%s{: >9}\" % (\"{: >6}\" * confusion_matrix.size(0))).format(\n",
    "                \"ID\", \"NE\", \"Total\",\n",
    "                *([id_to_tag[i] for i in range(confusion_matrix.size(0))] + [\"Percent\"])\n",
    "                ))\n",
    "        for i in range(confusion_matrix.size(0)):\n",
    "            print((\"{: >2}{: >7}{: >7}%s{: >9}\" % (\"{: >6}\" * confusion_matrix.size(0))).format(\n",
    "                    str(i), id_to_tag[i], str(int(confusion_matrix[i].sum())),\n",
    "                    *([int(confusion_matrix[i][j]) for j in range(confusion_matrix.size(0))] +\n",
    "                      [\"%.2f\" % (confusion_matrix[i][i] * 100. / max(1, confusion_matrix[i].sum()))])\n",
    "                    ))\n",
    "    return start_time"
   ]
  },
  {
   "cell_type": "code",
   "execution_count": 9,
   "metadata": {},
   "outputs": [
    {
     "name": "stdout",
     "output_type": "stream",
     "text": [
      "training start -2019-06-04 10:54:48.862463\n",
      "processed 46435 tokens with 5628 phrases; found: 5648 phrases; correct: 5142.\n",
      "accuracy:  97.93%; precision:  91.04%; recall:  91.36%; FB1:  91.20\n",
      "              LOC: precision:  92.00%; recall:  94.10%; FB1:  93.04  1700\n",
      "             MISC: precision:  80.68%; recall:  81.96%; FB1:  81.32  704\n",
      "              ORG: precision:  89.91%; recall:  88.77%; FB1:  89.33  1635\n",
      "              PER: precision:  95.71%; recall:  95.24%; FB1:  95.47  1609\n",
      "ID     NE  Total     O S-LOC B-PER E-PER S-ORGS-MISC B-ORG E-ORG S-PER I-ORG B-LOC E-LOCB-MISCE-MISCI-MISC I-PER I-LOC  Percent\n",
      " 0      O  38323 38054    18     5     4    23    20    12    24    10    18     7     9    43    57    15     0     4    99.30\n",
      " 1  S-LOC   1436    10  1345     2     1    30    16     5     3     2     2     4     3    12     1     0     0     0    93.66\n",
      " 2  B-PER   1086     2     0  1076     0     0     0     4     0     0     1     1     0     0     0     0     2     0    99.08\n",
      " 3  E-PER   1086     1     0     0  1073     0     0     0     4     1     1     0     1     0     0     0     5     0    98.80\n",
      " 4  S-ORG   1082    39    23     0     0   971    15     9     8    12     0     0     0     4     0     1     0     0    89.74\n",
      " 5 S-MISC    525    20     8     1     0    20   446     6     0     8     0     3     0     7     6     0     0     0    84.95\n",
      " 6  B-ORG    579     8    12     8     0     2     1   504     0     1     8    24     0    10     1     0     0     0    87.05\n",
      " 7  E-ORG    579    20     2     0     7     1     0     0   507     1     9     0    21     0    10     1     0     0    87.56\n",
      " 8  S-PER    531    14    26     0     5    14     0     2     0   468     0     0     2     0     0     0     0     0    88.14\n",
      " 9  I-ORG    256     8     1     0     3     0     0     5     1     0   226     1     4     1     0     2     1     3    88.28\n",
      "10  B-LOC    232     0     0     1     0     0     1    11     0     0     1   218     0     0     0     0     0     0    93.97\n",
      "11  E-LOC    232     2     0     0     1     0     0     0     8     0     4     0   217     0     0     0     0     0    93.53\n",
      "12 B-MISC    177    11     0     6     0     1     5    15     0     4     1     6     0   124     1     3     0     0    70.06\n",
      "13 E-MISC    177    17     1     0     6     0     0     0    15     1     0     0     6     0   129     2     0     0    72.88\n",
      "14 I-MISC     39     2     0     0     0     0     0     0     1     0     6     0     0     4     0    26     0     0    66.67\n",
      "15  I-PER     70     0     0     0     0     0     0     0     0     0     3     0     0     0     0     0    67     0    95.71\n",
      "16  I-LOC     25     0     0     0     0     0     0     0     0     0     2     0     1     0     0     0     0    22    88.00\n",
      "\n",
      "소요시간 : 0:00:15.648284\n"
     ]
    }
   ],
   "source": [
    "start_time = evaluating(model, test_data, display_confusion_matrix=True)\n",
    "print('\\n소요시간 : %s' % ((datetime.now() - start_time)))"
   ]
  },
  {
   "cell_type": "code",
   "execution_count": null,
   "metadata": {},
   "outputs": [],
   "source": []
  },
  {
   "cell_type": "code",
   "execution_count": null,
   "metadata": {},
   "outputs": [],
   "source": []
  },
  {
   "cell_type": "code",
   "execution_count": null,
   "metadata": {},
   "outputs": [],
   "source": []
  }
 ],
 "metadata": {
  "hide_input": false,
  "kernelspec": {
   "display_name": "Python 3",
   "language": "python",
   "name": "python3"
  },
  "language_info": {
   "codemirror_mode": {
    "name": "ipython",
    "version": 3
   },
   "file_extension": ".py",
   "mimetype": "text/x-python",
   "name": "python",
   "nbconvert_exporter": "python",
   "pygments_lexer": "ipython3",
   "version": "3.6.7"
  },
  "toc": {
   "base_numbering": 1,
   "nav_menu": {},
   "number_sections": true,
   "sideBar": true,
   "skip_h1_title": false,
   "title_cell": "Table of Contents",
   "title_sidebar": "Contents",
   "toc_cell": false,
   "toc_position": {},
   "toc_section_display": true,
   "toc_window_display": false
  }
 },
 "nbformat": 4,
 "nbformat_minor": 2
}
